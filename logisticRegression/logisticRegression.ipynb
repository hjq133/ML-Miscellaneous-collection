{
 "cells": [
  {
   "cell_type": "code",
   "execution_count": 1,
   "metadata": {},
   "outputs": [],
   "source": [
    "import time\n",
    "import numpy as np\n",
    "from tqdm import tqdm"
   ]
  },
  {
   "cell_type": "code",
   "execution_count": 2,
   "metadata": {},
   "outputs": [],
   "source": [
    "def load_data(file_name):\n",
    "    data_list = []\n",
    "    label_list = []\n",
    "    fr = open(file_name, 'r')\n",
    "    \n",
    "    for line in fr.readlines():\n",
    "        cur_line = line.strip().split(',')\n",
    "        if int(cur_line[0]) == 0:  # 0为1个类\n",
    "            label_list.append(1)\n",
    "        else:\n",
    "            label_list.append(0) # 其余9个数字为1个类\n",
    "        data_list.append([int(num)/255 for num in cur_line[1:]])\n",
    "    \n",
    "    return data_list, label_list"
   ]
  },
  {
   "cell_type": "code",
   "execution_count": 3,
   "metadata": {},
   "outputs": [],
   "source": [
    "def logisticRegression(train_data, train_label, epoch=200):\n",
    "    # 循环遍历每一个样本，为其添加一个1,将w与b合在一起\n",
    "    for i in range(len(train_data)):\n",
    "        train_data[i].append(1)\n",
    "    train_data = np.array(train_data)\n",
    "    # 初始化w，维数为样本x维数+1，+1的那一位是b，初始为0\n",
    "    w = np.zeros(train_data.shape[1])\n",
    "    h = 0.001 # 学习率，步长\n",
    "    \n",
    "    #每次迭代冲遍历一次所有样本，进行随机梯度下降 SGD\n",
    "    for i in tqdm(range(epoch)):\n",
    "        for j in range(train_data.shape[0]):\n",
    "            wx = np.dot(w, train_data[j])\n",
    "            yi = train_label[j]\n",
    "            xi = train_data[j]\n",
    "            # 梯度上升求极大值\n",
    "            w += h * (xi * yi - np.exp(wx) * xi) / (1 + np.exp(wx))\n",
    "    return w"
   ]
  },
  {
   "cell_type": "code",
   "execution_count": 4,
   "metadata": {},
   "outputs": [],
   "source": [
    "def predict(w, x):\n",
    "    wx = np.dot(w, x)\n",
    "    P1 = np.exp(wx) / (1 + np.exp(wx))\n",
    "    if P1 >= 0.5:\n",
    "        return 1\n",
    "    return 0"
   ]
  },
  {
   "cell_type": "code",
   "execution_count": 12,
   "metadata": {},
   "outputs": [],
   "source": [
    "def model_test(test_data, test_label, w):\n",
    "    for i in range(len(test_data)):\n",
    "        test_data[i].append(1)\n",
    "    error_cnt = 0\n",
    "    for i in tqdm(range(len(test_data))):\n",
    "        if test_label[i] != predict(w, test_data[i]):\n",
    "            error_cnt += 1\n",
    "    return 1 - error_cnt / len(test_data)"
   ]
  },
  {
   "cell_type": "code",
   "execution_count": 6,
   "metadata": {},
   "outputs": [],
   "source": [
    "train_data, train_label = load_data('../../data/Mnist/train.csv')"
   ]
  },
  {
   "cell_type": "code",
   "execution_count": 7,
   "metadata": {},
   "outputs": [
    {
     "name": "stderr",
     "output_type": "stream",
     "text": [
      "100%|██████████| 200/200 [02:25<00:00,  1.37it/s]\n"
     ]
    }
   ],
   "source": [
    "w = logisticRegression(train_data, train_label)"
   ]
  },
  {
   "cell_type": "code",
   "execution_count": 18,
   "metadata": {},
   "outputs": [
    {
     "name": "stderr",
     "output_type": "stream",
     "text": [
      "100%|██████████| 10000/10000 [00:00<00:00, 19855.37it/s]"
     ]
    },
    {
     "name": "stdout",
     "output_type": "stream",
     "text": [
      "0.9447\n"
     ]
    },
    {
     "name": "stderr",
     "output_type": "stream",
     "text": [
      "\n"
     ]
    }
   ],
   "source": [
    "test_data, test_label = load_data('../../data/Mnist/test.csv')\n",
    "acc = model_test(test_data, test_label, w)\n",
    "print(acc)"
   ]
  },
  {
   "cell_type": "code",
   "execution_count": null,
   "metadata": {},
   "outputs": [],
   "source": [
    " "
   ]
  }
 ],
 "metadata": {
  "kernelspec": {
   "display_name": "Python 3",
   "language": "python",
   "name": "python3"
  },
  "language_info": {
   "codemirror_mode": {
    "name": "ipython",
    "version": 3
   },
   "file_extension": ".py",
   "mimetype": "text/x-python",
   "name": "python",
   "nbconvert_exporter": "python",
   "pygments_lexer": "ipython3",
   "version": "3.7.1"
  }
 },
 "nbformat": 4,
 "nbformat_minor": 2
}
