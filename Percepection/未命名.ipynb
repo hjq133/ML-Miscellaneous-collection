{
 "cells": [
  {
   "cell_type": "code",
   "execution_count": 7,
   "metadata": {},
   "outputs": [],
   "source": [
    "import numpy as np\n",
    "import time\n",
    "from tqdm import tqdm"
   ]
  },
  {
   "cell_type": "code",
   "execution_count": 10,
   "metadata": {},
   "outputs": [],
   "source": [
    "def loadData(fileName):\n",
    "    '''\n",
    "    加载Mnist数据集\n",
    "    :param fileName:要加载的数据集路径\n",
    "    :return: list形式的数据集及标记\n",
    "    '''\n",
    "    print('start to read data')\n",
    "    # 存放数据及标记的list\n",
    "    dataArr = []\n",
    "    labelArr = []\n",
    "    # 打开文件\n",
    "    fr = open(fileName, 'r')\n",
    "    # 将文件按行读取\n",
    "    for i, line in enumerate(fr.readlines()):\n",
    "        # 对每一行数据按切割福','进行切割，返回字段列表\n",
    "        curLine = line.strip().split(',')\n",
    "        # Mnsit有0-9是个标记，由于是二分类任务，所以将>=5的作为1，<5为-1\n",
    "        if i == 0:\n",
    "            continue\n",
    "        if int(curLine[0]) >= 5:\n",
    "            labelArr.append(1)\n",
    "        else:\n",
    "            labelArr.append(-1)\n",
    "        # 存放标记\n",
    "        # [int(num) for num in curLine[1:]] -> 遍历每一行中除了以第一哥元素（标记）外将所有元素转换成int类型\n",
    "        # [int(num)/255 for num in curLine[1:]] -> 将所有数据除255归一化(非必须步骤，可以不归一化)\n",
    "        dataArr.append([int(num) / 255 for num in curLine[1:]])\n",
    "    # 返回data和label\n",
    "    return dataArr, labelArr"
   ]
  },
  {
   "cell_type": "code",
   "execution_count": 22,
   "metadata": {},
   "outputs": [],
   "source": [
    "def perception(dataArr, labelArr, iter=50):\n",
    "    '''\n",
    "    dataArr : (m, n)  m为样本个数，n为特征数\n",
    "    labelArr : (m, )\n",
    "    iter : 迭代次数，因为不大可能达到100%\n",
    "    '''\n",
    "    dataMat = np.mat(dataArr)\n",
    "    labelMat = np.mat(labelArr)\n",
    "    m, n = np.shape(dataMat)\n",
    "    w = np.zeros((1, n))\n",
    "    b = 0\n",
    "    h = 0.0001\n",
    "    \n",
    "    for k in tqdm(range(iter)):\n",
    "        for i in range(m): # 随机梯度下降，遍历每个样本点\n",
    "            xi = dataMat[i]  # shape (1, 784)\n",
    "            yi = labelMat[0, i]\n",
    "            \n",
    "            if -1 * yi * (w * xi.T + b) >= 0:\n",
    "                w = w + h * yi * xi\n",
    "                b = b + h * yi\n",
    "    return w, b"
   ]
  },
  {
   "cell_type": "code",
   "execution_count": 38,
   "metadata": {},
   "outputs": [],
   "source": [
    "def test(dataArr, labelArr, w, b):\n",
    "    dataMat = np.mat(dataArr)\n",
    "    labelMat = np.mat(labelArr)\n",
    "    m, n = np.shape(dataMat)\n",
    "    errCnt = 0\n",
    "    \n",
    "    for i in tqdm(range(m)):\n",
    "        xi = dataMat[i]\n",
    "        yi = labelMat[0,i]\n",
    "        \n",
    "        if -1 * yi *(w * xi.T + b) >= 0:  # 错误分类的\n",
    "            errCnt += 1\n",
    "    \n",
    "    accuracy = float(m - errCnt) / float(m)\n",
    "    return accuracy"
   ]
  },
  {
   "cell_type": "code",
   "execution_count": 12,
   "metadata": {},
   "outputs": [
    {
     "name": "stdout",
     "output_type": "stream",
     "text": [
      "start to read data\n",
      "start to read data\n"
     ]
    }
   ],
   "source": [
    "trainData, trainLabel = loadData('../../data/Mnist/train.csv')\n",
    "testData, testLabel = loadData('../../data/Mnist/test.csv')"
   ]
  },
  {
   "cell_type": "code",
   "execution_count": 23,
   "metadata": {
    "scrolled": true
   },
   "outputs": [
    {
     "name": "stderr",
     "output_type": "stream",
     "text": [
      "100%|██████████| 42000/42000 [00:01<00:00, 37770.13it/s]\n",
      "100%|██████████| 42000/42000 [00:01<00:00, 39360.09it/s]\n",
      "100%|██████████| 42000/42000 [00:01<00:00, 39453.88it/s]\n",
      "100%|██████████| 42000/42000 [00:01<00:00, 38565.33it/s]\n",
      "100%|██████████| 42000/42000 [00:01<00:00, 39612.14it/s]\n",
      "100%|██████████| 42000/42000 [00:01<00:00, 39381.46it/s]\n",
      "100%|██████████| 42000/42000 [00:01<00:00, 39112.53it/s]\n",
      "100%|██████████| 42000/42000 [00:01<00:00, 39801.87it/s]\n",
      "100%|██████████| 42000/42000 [00:01<00:00, 37081.36it/s]\n",
      "100%|██████████| 42000/42000 [00:01<00:00, 39467.08it/s]\n",
      "100%|██████████| 42000/42000 [00:01<00:00, 38676.02it/s]\n",
      "100%|██████████| 42000/42000 [00:01<00:00, 37390.78it/s]\n",
      "100%|██████████| 42000/42000 [00:01<00:00, 38424.04it/s]\n",
      "100%|██████████| 42000/42000 [00:01<00:00, 36904.61it/s]\n",
      "100%|██████████| 42000/42000 [00:01<00:00, 40193.08it/s]\n",
      "100%|██████████| 42000/42000 [00:01<00:00, 37809.94it/s]\n",
      "100%|██████████| 42000/42000 [00:01<00:00, 38768.88it/s]\n",
      "100%|██████████| 42000/42000 [00:01<00:00, 38608.36it/s]\n",
      "100%|██████████| 42000/42000 [00:01<00:00, 37139.29it/s]\n",
      "100%|██████████| 42000/42000 [00:01<00:00, 37312.26it/s]\n",
      "100%|██████████| 42000/42000 [00:01<00:00, 35405.34it/s]\n",
      "100%|██████████| 42000/42000 [00:01<00:00, 36894.11it/s]\n",
      "100%|██████████| 42000/42000 [00:01<00:00, 36408.69it/s]\n",
      "100%|██████████| 42000/42000 [00:01<00:00, 37718.84it/s]\n",
      "100%|██████████| 42000/42000 [00:01<00:00, 39295.79it/s]\n",
      "100%|██████████| 42000/42000 [00:01<00:00, 38926.75it/s]\n",
      "100%|██████████| 42000/42000 [00:01<00:00, 39814.63it/s]\n",
      "100%|██████████| 42000/42000 [00:01<00:00, 36447.76it/s]\n",
      "100%|██████████| 42000/42000 [00:01<00:00, 37920.99it/s]\n",
      "100%|██████████| 42000/42000 [00:01<00:00, 39855.61it/s]\n"
     ]
    }
   ],
   "source": [
    "w, b = perception(trainData, trainLabel, 30)"
   ]
  },
  {
   "cell_type": "code",
   "execution_count": 39,
   "metadata": {},
   "outputs": [
    {
     "name": "stderr",
     "output_type": "stream",
     "text": [
      "100%|██████████| 42000/42000 [00:00<00:00, 42689.29it/s]\n"
     ]
    }
   ],
   "source": [
    "acc = test(trainData, trainLabel, w, b)"
   ]
  },
  {
   "cell_type": "code",
   "execution_count": 40,
   "metadata": {},
   "outputs": [
    {
     "name": "stdout",
     "output_type": "stream",
     "text": [
      "0.8091666666666667\n"
     ]
    }
   ],
   "source": [
    "print(acc)"
   ]
  }
 ],
 "metadata": {
  "kernelspec": {
   "display_name": "Python 3",
   "language": "python",
   "name": "python3"
  },
  "language_info": {
   "codemirror_mode": {
    "name": "ipython",
    "version": 3
   },
   "file_extension": ".py",
   "mimetype": "text/x-python",
   "name": "python",
   "nbconvert_exporter": "python",
   "pygments_lexer": "ipython3",
   "version": "3.7.1"
  }
 },
 "nbformat": 4,
 "nbformat_minor": 2
}
