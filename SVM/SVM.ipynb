{
 "cells": [
  {
   "cell_type": "code",
   "execution_count": 1,
   "metadata": {},
   "outputs": [],
   "source": [
    "import time\n",
    "import numpy as np\n",
    "import random\n",
    "import math\n",
    "from tqdm import tqdm"
   ]
  },
  {
   "cell_type": "code",
   "execution_count": 2,
   "metadata": {},
   "outputs": [],
   "source": [
    "def load_data(file_name):\n",
    "    data_arr = []\n",
    "    label_arr = []\n",
    "    \n",
    "    fr = open(file_name)\n",
    "    for line in fr.readlines():\n",
    "        cur_line = line.strip().split(',')\n",
    "        data_arr.append([int(num) / 255 for num in curLine[1:]])\n",
    "        if int(cur_line[0]) == 0:\n",
    "            label_arr.append(1)\n",
    "        else:\n",
    "            label_arr.append(-1)\n",
    "    return data_arr, label_arr"
   ]
  },
  {
   "cell_type": "code",
   "execution_count": 6,
   "metadata": {},
   "outputs": [],
   "source": [
    "class SVM:\n",
    "    def __init__(self, train_data, train_label, sigma = 10, C = 200, toler = 0.001):\n",
    "        self.train_data = np.mat(train_data)\n",
    "        self.train_label = np.mat(train_label).T\n",
    "        \n",
    "        self.m, self.n = np.shape(self.train_data)\n",
    "        self.sigma = sigma  # 高斯核分母的sigma\n",
    "        self.C = C  # 惩罚参数\n",
    "        self.toler = toler  # 松弛变量\n",
    "        \n",
    "        self.k = self.calcKernel()  # 核函数\n",
    "        self.b = 0  # 偏置b\n",
    "        self.alpha = [0] * self.train_data.shape[0]\n",
    "        \n",
    "        # SMO运算过程中的Ei\n",
    "        self.E = [0 * self.train_data[i, 0] for i in range(self.train_label.shape[0])]\n",
    "        self.supportVecIndex = []\n",
    "        \n",
    "    def calcKernel(self):\n",
    "        # 初始化高斯核 k[i][j] = Xi * Xj\n",
    "        k = [[0 for i in range(self.m)] for j in range(self.m)]\n",
    "        \n",
    "        print(\"计算高斯核...\")\n",
    "        for i in tqdm(range(self.m)):\n",
    "            X = self.train_data[i, :]\n",
    "            for j in range(i, self.m):\n",
    "                Z = self.train_data[j, :]\n",
    "                result = (X - Z) * (X - Z).T\n",
    "                result = np.exp(-1 * result / (2 * self.sigma**2))\n",
    "                k[i][j] = result\n",
    "                k[j][i] = result\n",
    "        return k\n",
    "    \n",
    "    def calcSingleKernel(self, x1, x2):\n",
    "        '''\n",
    "        单独计算核函数\n",
    "        '''\n",
    "        result = (x1 - x2) * (x1 - x2).T\n",
    "        result = np.exp(-1 * result / (2 * self.sigma**2))\n",
    "        return np.exp(result)\n",
    "    \n",
    "    def train(self, epoch=100):\n",
    "        iterStep = 0\n",
    "        parameterChanged = 1\n",
    "        \n",
    "        # 如果parameter没有改变，则停止（说明参数收敛了）\n",
    "        while(iterStep < epoch) and (parameterChanged > 0):\n",
    "            iterStep += 1\n",
    "            parameterChanged = 0 # reset\n",
    "            \n",
    "            # 找SMO的第一个变量\n",
    "            for i in range(self.m):\n",
    "                if self.isSatisfyKKT(i) == False:\n",
    "                    # 如果找到了不满足KKT条件的，则开始找第2个\n",
    "                    E1 = self.calcEi(i)\n",
    "                    E2, j = self.getAlphaJ(E1, i)\n",
    "                    "
   ]
  },
  {
   "cell_type": "code",
   "execution_count": null,
   "metadata": {},
   "outputs": [],
   "source": []
  }
 ],
 "metadata": {
  "kernelspec": {
   "display_name": "Python 3",
   "language": "python",
   "name": "python3"
  },
  "language_info": {
   "codemirror_mode": {
    "name": "ipython",
    "version": 3
   },
   "file_extension": ".py",
   "mimetype": "text/x-python",
   "name": "python",
   "nbconvert_exporter": "python",
   "pygments_lexer": "ipython3",
   "version": "3.7.1"
  }
 },
 "nbformat": 4,
 "nbformat_minor": 2
}
