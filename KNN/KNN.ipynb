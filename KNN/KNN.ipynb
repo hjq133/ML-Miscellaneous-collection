{
 "cells": [
  {
   "cell_type": "code",
   "execution_count": 23,
   "metadata": {},
   "outputs": [],
   "source": [
    "import numpy as np\n",
    "import time\n",
    "from tqdm import tqdm"
   ]
  },
  {
   "cell_type": "code",
   "execution_count": 24,
   "metadata": {},
   "outputs": [],
   "source": [
    "def load_data(fileName):\n",
    "    data_arr = []\n",
    "    label_arr = []\n",
    "    fr = open(fileName, 'r')\n",
    "    for i, line in enumerate(fr.readlines()):\n",
    "        cur_line = line.strip().split(',')\n",
    "        data_arr.append([int(num) for num in cur_line[1:]])\n",
    "        label_arr.append(int(cur_line[0]))\n",
    "    return data_arr, label_arr"
   ]
  },
  {
   "cell_type": "code",
   "execution_count": 31,
   "metadata": {},
   "outputs": [],
   "source": [
    "def calc_dist(x1, x2):\n",
    "    # 计算欧氏距离（L2距离）\n",
    "    return np.sqrt(np.sum(np.square(x1-x2)))\n",
    "\n",
    "    # 计算曼哈顿距离 (L1距离)\n",
    "    # return np.sum(x1 - x2)"
   ]
  },
  {
   "cell_type": "code",
   "execution_count": 33,
   "metadata": {},
   "outputs": [],
   "source": [
    "def get_closest(train_data, train_label, x, top_k):\n",
    "    '''\n",
    "    train_data:\n",
    "    train_label:\n",
    "    x: 就是找这个点的k个最近邻\n",
    "    top_k: 参数k，最近邻个数\n",
    "    '''\n",
    "    dist_list = [0] * len(train_data)\n",
    "    for i in range(len(train_data)):  # 这里可以用kd树优化\n",
    "        xi = train_data[i]\n",
    "        dist = calc_dist(xi, x)\n",
    "        dist_list[i] = dist\n",
    "    topk_list = np.argsort(np.array(dist_list))[:top_k]\n",
    "    label_list = [0] * 10 # 10表示\n",
    "\n",
    "    for index in topk_list:\n",
    "        label_list[int(train_label[index])] += 1  # 投一票，多数表决\n",
    "        return label_list.index(max(label_list))"
   ]
  },
  {
   "cell_type": "code",
   "execution_count": 34,
   "metadata": {},
   "outputs": [],
   "source": [
    "def model_test(train_data, train_label, test_data, test_label, top_k):\n",
    "    error_cnt = 0\n",
    "    \n",
    "    train_data = np.mat(train_data)\n",
    "    train_label = np.mat(train_label).T\n",
    "    test_data = np.mat(test_data)\n",
    "    test_label = np.mat(test_label).T\n",
    "    \n",
    "    for i in tqdm(range(200)):  # 这里只测试200个测试点\n",
    "        x = test_data[i]\n",
    "        y = get_closest(train_data, train_label, x, top_k)\n",
    "        if y != test_label[i]:\n",
    "            error_cnt += 1\n",
    "    \n",
    "    return 1 - (error_cnt / 200)"
   ]
  },
  {
   "cell_type": "code",
   "execution_count": 35,
   "metadata": {},
   "outputs": [],
   "source": [
    "train_data, train_label = load_data('../../data/Mnist/train.csv')\n",
    "test_data, test_label = load_data('../../data/Mnist/test.csv')"
   ]
  },
  {
   "cell_type": "code",
   "execution_count": 36,
   "metadata": {},
   "outputs": [
    {
     "name": "stdout",
     "output_type": "stream",
     "text": [
      "(60000, 784)\n"
     ]
    }
   ],
   "source": [
    "print(np.shape(train_data))"
   ]
  },
  {
   "cell_type": "code",
   "execution_count": 37,
   "metadata": {},
   "outputs": [
    {
     "name": "stderr",
     "output_type": "stream",
     "text": [
      "100%|██████████| 200/200 [03:44<00:00,  1.11s/it]\n"
     ]
    }
   ],
   "source": [
    "acc = model_test(train_data, train_label, test_data, test_label, 25)"
   ]
  },
  {
   "cell_type": "code",
   "execution_count": 38,
   "metadata": {},
   "outputs": [
    {
     "name": "stdout",
     "output_type": "stream",
     "text": [
      "0.99\n"
     ]
    }
   ],
   "source": [
    "print(acc)"
   ]
  },
  {
   "cell_type": "code",
   "execution_count": null,
   "metadata": {},
   "outputs": [],
   "source": []
  }
 ],
 "metadata": {
  "kernelspec": {
   "display_name": "Python 3",
   "language": "python",
   "name": "python3"
  },
  "language_info": {
   "codemirror_mode": {
    "name": "ipython",
    "version": 3
   },
   "file_extension": ".py",
   "mimetype": "text/x-python",
   "name": "python",
   "nbconvert_exporter": "python",
   "pygments_lexer": "ipython3",
   "version": "3.7.1"
  }
 },
 "nbformat": 4,
 "nbformat_minor": 2
}
