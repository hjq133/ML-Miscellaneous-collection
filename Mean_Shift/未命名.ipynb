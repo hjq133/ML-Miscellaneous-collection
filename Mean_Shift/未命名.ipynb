{
 "cells": [
  {
   "cell_type": "code",
   "execution_count": 1,
   "metadata": {},
   "outputs": [],
   "source": [
    "import matplotlib.pyplot as plt\n",
    "import math\n",
    "import numpy as np"
   ]
  },
  {
   "cell_type": "code",
   "execution_count": 2,
   "metadata": {},
   "outputs": [],
   "source": [
    "MIN_DISTANCE = 0.000001  # mini error"
   ]
  },
  {
   "cell_type": "code",
   "execution_count": 3,
   "metadata": {},
   "outputs": [],
   "source": [
    "def create_data(num):  # data num\n",
    "    data1 = np.random.rand(2, num) * 1\n",
    "    data2 = np.random.rand(2, num) * 1 + 3\n",
    "    data3 = np.random.rand(2, num) * 1 + 1.5\n",
    "    data = np.concatenate((data1, data2, data3), axis=1)\n",
    "    x, y = data\n",
    "    fig, ax = plt.subplots()\n",
    "    scatter = ax.scatter(x, y)\n",
    "    ax.grid(True)\n",
    "    plt.show()\n",
    "    return np.transpose(data,[1, 0])"
   ]
  },
  {
   "cell_type": "code",
   "execution_count": 4,
   "metadata": {},
   "outputs": [],
   "source": [
    "def euclidean_dist(pointA, pointB):\n",
    "    #计算pointA和pointB之间的欧式距离\n",
    "    total = (pointA - pointB) * (pointA - pointB).T\n",
    "    return math.sqrt(total)"
   ]
  },
  {
   "cell_type": "code",
   "execution_count": 5,
   "metadata": {},
   "outputs": [],
   "source": [
    "def group_points(mean_shift_points):\n",
    "    '''计算所属的类别\n",
    "    input:  mean_shift_points(mat):漂移向量\n",
    "    output: group_assignment(array):所属类别\n",
    "    '''\n",
    "    group_assignment = []\n",
    "    m, n = np.shape(mean_shift_points)\n",
    "    index = 0\n",
    "    index_dict = {}\n",
    "    for i in range(m):\n",
    "        item = []\n",
    "        for j in range(n):\n",
    "            item.append(str((\"%5.2f\" % mean_shift_points[i, j])))\n",
    "\n",
    "        item_1 = \"_\".join(item)\n",
    "        if item_1 not in index_dict:\n",
    "            index_dict[item_1] = index\n",
    "            index += 1\n",
    "\n",
    "    for i in range(m):\n",
    "        item = []\n",
    "        for j in range(n):\n",
    "            item.append(str((\"%5.2f\" % mean_shift_points[i, j])))\n",
    "\n",
    "        item_1 = \"_\".join(item)\n",
    "        group_assignment.append(index_dict[item_1])\n",
    "\n",
    "    return group_assignment"
   ]
  },
  {
   "cell_type": "code",
   "execution_count": 6,
   "metadata": {},
   "outputs": [],
   "source": [
    "def gaussian_kernel(distance, bandwidth):\n",
    "    m = np.shape(distance)[0]\n",
    "    right = np.mat(np.zeros((m, 1)))\n",
    "    for i in range(m):\n",
    "        right[i, 0] = (-0.5 * distance[i] * distance[i].T) / (bandwidth * bandwidth)\n",
    "        right[i, 0] = np.exp(right[i, 0])\n",
    "    left = 1 / (bandwidth * math.sqrt(2 * math.pi))\n",
    "\n",
    "    gaussian_val = left * right\n",
    "    return gaussian_val"
   ]
  },
  {
   "cell_type": "code",
   "execution_count": 7,
   "metadata": {},
   "outputs": [],
   "source": [
    "def shift_point(point, points, kernel_bandwidth):\n",
    "    points = np.mat(points)\n",
    "    m,n = np.shape(points)\n",
    "    #计算距离\n",
    "    point_distances = np.mat(np.zeros((m,1)))\n",
    "    for i in range(m):\n",
    "        point_distances[i, 0] = np.sqrt((point - points[i]) * (point - points[i]).T)\n",
    "\n",
    "    #计算高斯核      \n",
    "    point_weights = gaussian_kernel(point_distances, kernel_bandwidth)\n",
    "\n",
    "    #计算分母\n",
    "    all = 0.0\n",
    "    for i in range(m):\n",
    "        all += point_weights[i, 0]\n",
    "\n",
    "    #均值偏移\n",
    "    point_shifted = point_weights.T * points / all\n",
    "    return point_shifted"
   ]
  },
  {
   "cell_type": "code",
   "execution_count": 8,
   "metadata": {},
   "outputs": [],
   "source": [
    "def distance_to_group(point, group):\n",
    "    min_distance = 10000.0\n",
    "    for pt in group:\n",
    "        dist = euclidean_dist(point, pt)\n",
    "        if dist < min_distance:\n",
    "            min_distance = dist\n",
    "    return min_distance"
   ]
  },
  {
   "cell_type": "code",
   "execution_count": null,
   "metadata": {},
   "outputs": [],
   "source": []
  },
  {
   "cell_type": "code",
   "execution_count": 21,
   "metadata": {},
   "outputs": [
    {
     "data": {
      "image/png": "[encoded data removed]",
      "text/plain": [
       "<Figure size 432x288 with 1 Axes>"
      ]
     },
     "metadata": {
      "needs_background": "light"
     },
     "output_type": "display_data"
    }
   ],
   "source": [
    "data = create_data(20)"
   ]
  },
  {
   "cell_type": "code",
   "execution_count": 22,
   "metadata": {},
   "outputs": [],
   "source": [
    "points = data\n",
    "kenel_bandwidth=0.3\n",
    "mean_shift_points = np.mat(points)\n",
    "max_min_dist = 1\n",
    "iter = 0\n",
    "m, n = np.shape(mean_shift_points)\n",
    "need_shift = [True] * m"
   ]
  },
  {
   "cell_type": "code",
   "execution_count": 23,
   "metadata": {},
   "outputs": [
    {
     "name": "stdout",
     "output_type": "stream",
     "text": [
      "iter:1\n",
      "iter:2\n",
      "iter:3\n",
      "iter:4\n",
      "iter:5\n",
      "iter:6\n",
      "iter:7\n",
      "iter:8\n",
      "iter:9\n"
     ]
    }
   ],
   "source": [
    "while max_min_dist > MIN_DISTANCE:\n",
    "    max_min_dist = 0\n",
    "    iter += 1\n",
    "    print(\"iter:\" + str(iter))\n",
    "    for i in range(0, m):\n",
    "        #判断每一个样本点是否需要计算偏置均值\n",
    "        if not need_shift[i]:\n",
    "            continue\n",
    "        p_new = mean_shift_points[i]\n",
    "        p_new_start = p_new\n",
    "        p_new = shift_point(p_new, points, kenel_bandwidth)\n",
    "        dist = euclidean_dist(p_new, p_new_start)\n",
    "\n",
    "        if dist > max_min_dist:#record the max in all points\n",
    "            max_min_dist = dist\n",
    "        if dist < MIN_DISTANCE:#no need to move\n",
    "            need_shift[i] = False\n",
    "\n",
    "        mean_shift_points[i] = p_new"
   ]
  },
  {
   "cell_type": "code",
   "execution_count": 25,
   "metadata": {},
   "outputs": [],
   "source": [
    "group = group_points(mean_shift_points)"
   ]
  },
  {
   "cell_type": "code",
   "execution_count": 26,
   "metadata": {},
   "outputs": [
    {
     "name": "stdout",
     "output_type": "stream",
     "text": [
      "[0, 0, 0, 0, 0, 0, 0, 0, 0, 0, 0, 0, 0, 0, 0, 0, 0, 0, 0, 0, 1, 1, 1, 1, 1, 1, 1, 1, 1, 1, 1, 1, 1, 1, 1, 1, 1, 1, 1, 1, 2, 2, 2, 2, 2, 2, 2, 2, 2, 2, 2, 2, 2, 2, 2, 2, 2, 2, 2, 2]\n"
     ]
    }
   ],
   "source": [
    "print(group)"
   ]
  },
  {
   "cell_type": "code",
   "execution_count": null,
   "metadata": {},
   "outputs": [],
   "source": []
  },
  {
   "cell_type": "code",
   "execution_count": null,
   "metadata": {},
   "outputs": [],
   "source": [
    "fig, ax = plt.subplots()\n",
    "scatter = ax.scatter(x, y)\n",
    "ax.grid(True)\n",
    "plt.show()"
   ]
  },
  {
   "cell_type": "code",
   "execution_count": null,
   "metadata": {},
   "outputs": [],
   "source": [
    "x = np.squeeze(shift_points[:, 0].getA())\n",
    "y = np.squeeze(shift_points[:, 1].getA())\n",
    "fig, ax = plt.subplots()\n",
    "scatter = ax.scatter(x, y)\n",
    "ax.grid(True)\n",
    "plt.show()"
   ]
  },
  {
   "cell_type": "code",
   "execution_count": null,
   "metadata": {},
   "outputs": [],
   "source": []
  }
 ],
 "metadata": {
  "kernelspec": {
   "display_name": "Python 3",
   "language": "python",
   "name": "python3"
  },
  "language_info": {
   "codemirror_mode": {
    "name": "ipython",
    "version": 3
   },
   "file_extension": ".py",
   "mimetype": "text/x-python",
   "name": "python",
   "nbconvert_exporter": "python",
   "pygments_lexer": "ipython3",
   "version": "3.7.1"
  }
 },
 "nbformat": 4,
 "nbformat_minor": 2
}
