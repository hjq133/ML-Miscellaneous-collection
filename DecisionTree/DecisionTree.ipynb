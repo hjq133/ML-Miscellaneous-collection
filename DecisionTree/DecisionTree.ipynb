{
 "cells": [
  {
   "cell_type": "code",
   "execution_count": 31,
   "metadata": {},
   "outputs": [],
   "source": [
    "import numpy as np\n",
    "from collections import defaultdict\n",
    "from tqdm import tqdm"
   ]
  },
  {
   "cell_type": "code",
   "execution_count": 41,
   "metadata": {},
   "outputs": [],
   "source": [
    "def load_data(file_name):\n",
    "    data_arr = []\n",
    "    label_arr = []\n",
    "    fr = open(file_name)\n",
    "\n",
    "    for i, line in enumerate(tqdm(fr.readlines())):\n",
    "        cur_line = line.strip().split(',')\n",
    "        # 此外将数据进行了二值化处理，大于128的转换成1，小于的转换成0，方便后续计算\n",
    "        data_arr.append([int(int(num) > 128) for num in cur_line[1:]])\n",
    "        label_arr.append(int(cur_line[0]))\n",
    "    return data_arr, label_arr"
   ]
  },
  {
   "cell_type": "code",
   "execution_count": 33,
   "metadata": {},
   "outputs": [],
   "source": [
    "def majorClass(label):\n",
    "    '''\n",
    "    找到当前标签集中数目最大的标签\n",
    "    '''\n",
    "    class_dict = defaultdict(int)  # 建立一个字典，用于计数\n",
    "    for i in range(len(label)):\n",
    "        class_dict[label[i]] += 1\n",
    "    # 对字典依据 值 进行降序排序\n",
    "    class_sort = sorted(class_dict.items(), key=lambda x: x[1], reverse=True)\n",
    "    # 返回占数目最多的标签, 返回的是label\n",
    "    return class_sort[0][0]"
   ]
  },
  {
   "cell_type": "code",
   "execution_count": 34,
   "metadata": {},
   "outputs": [],
   "source": [
    "def getSubDataArr(train_data, train_label, A, a):\n",
    "    # 根据特征值进行划分左右子树\n",
    "    ret_data = []\n",
    "    ret_label = []\n",
    "    for i in range(len(train_data)):\n",
    "        if train_data[i][A] == a:\n",
    "            # 特征值由于二值化了，只可能是0或1\n",
    "            # 将该样本的第A个特征切割掉，放入返回的数据集和中\n",
    "            ret_data.append(train_data[i][0:A] + train_data[i][A + 1:])\n",
    "            # 列表＋列表 = 列表\n",
    "            ret_label.append(train_label[i])\n",
    "    return ret_data, ret_label"
   ]
  },
  {
   "cell_type": "code",
   "execution_count": 35,
   "metadata": {},
   "outputs": [],
   "source": [
    "def calc_H_D(train_label):\n",
    "    '''\n",
    "    计算数据集D的经验熵\n",
    "    label: 某个数据集的label\n",
    "    '''\n",
    "    H_D = 0  # 初始化为0\n",
    "    # 先找出哪些label出现过，这样保证经验熵计算log时始终有意义\n",
    "    label_set = set([label for label in train_label])\n",
    "\n",
    "    for i in label_set:\n",
    "        # 计算|Ck|/|D|\n",
    "        p = train_label[train_label == i].size / train_label.size\n",
    "\n",
    "        H_D += -1 * p * np.log2(p)\n",
    "    return H_D"
   ]
  },
  {
   "cell_type": "code",
   "execution_count": 36,
   "metadata": {},
   "outputs": [],
   "source": [
    "def calc_H_D_A(dev_feature, train_label):\n",
    "    H_D_A = 0\n",
    "    # 找出feature可取的所有值\n",
    "    feature_set = set([label for label in dev_feature])\n",
    "\n",
    "    # 对于每一个特征值，遍历计算条件经验熵\n",
    "    for i in feature_set:\n",
    "        # 计算 H(D|A)\n",
    "        rate = dev_feature[dev_feature == i].size / dev_feature.size\n",
    "        H_D_A += rate * calc_H_D(train_label[dev_feature == i])\n",
    "    return H_D_A"
   ]
  },
  {
   "cell_type": "code",
   "execution_count": 37,
   "metadata": {},
   "outputs": [],
   "source": [
    "def calcBestFeature(train_data, train_label):\n",
    "    '''\n",
    "    计算信息增益最大的特征\n",
    "    train_data ： 当前数据集\n",
    "    '''\n",
    "    train_data = np.array(train_data)\n",
    "    train_label = np.array(train_label)\n",
    "    feature_num = train_data.shape[1]  # 获取特征的数目\n",
    "\n",
    "    maxG_D_A = -1  # 初始化最大信息增益\n",
    "    max_feature = -1  # 初始化最大信息增益的特征\n",
    "\n",
    "    # 1. 计算数据集D的经验熵 H(D)\n",
    "    H_D = calc_H_D(train_label)\n",
    "\n",
    "    # 2. 计算经验条件熵\n",
    "    for feature in range(feature_num):\n",
    "\n",
    "        # 提取所有样本在当前feature的列表, 加快运行速度\n",
    "        train_data_devide_by_feature = np.array(train_data[:, feature].flat)\n",
    "\n",
    "        # 计算信息增益 G(D|A) = H(D) - H(D|A)\n",
    "        G_D_A = H_D - calc_H_D_A(train_data_devide_by_feature, train_label)\n",
    "\n",
    "        if G_D_A > maxG_D_A:\n",
    "            maxG_D_A = G_D_A\n",
    "            max_feature = feature\n",
    "\n",
    "    return max_feature, maxG_D_A\n"
   ]
  },
  {
   "cell_type": "code",
   "execution_count": 38,
   "metadata": {},
   "outputs": [],
   "source": [
    "def createTree(*dataset):\n",
    "    # :param dataSet:(trainDataList， trainLabelList) <<-- 元祖形式\n",
    "    # :return:新的子节点或该叶子节点的值\n",
    "    # * 的作用：在函数定义中，收集所有位置参数到一个新的元组，并将整个元组赋值给变量args\n",
    "    epsilon = 0.1\n",
    "\n",
    "    # 若信息增益 < 阈值Epsilon，则返回 T\n",
    "    train_data = dataset[0][0]\n",
    "    train_label = dataset[0][1]\n",
    "    # 将标签放入一个set里面，如果当前都是同一个标签，则返回该标签\n",
    "    class_dict = {i for i in train_label}\n",
    "    if len(class_dict) == 1:\n",
    "        return train_label[0]\n",
    "\n",
    "    # 如果A为空集，则返回, 即没有特征可以供分解了\n",
    "    if len(train_data[0]) == 0:\n",
    "        # #即如果已经没有特征可以用来再分化了，返回占大多数的类别\n",
    "        return majorClass(train_label)\n",
    "\n",
    "    # 计算信息增益，找到信息增益最大的feature Ag\n",
    "    Ag, EpsilonGet = calcBestFeature(train_data, train_label)\n",
    "\n",
    "    # 如果信息增益值小于阈值epsilon\n",
    "    if EpsilonGet < epsilon:\n",
    "        return majorClass(train_label)\n",
    "\n",
    "    # 对Ag的每一个值，将Ag=ai将D分割为若干非空子集合Di,将Di实例最大的类\n",
    "    # 作为标记，构建子节点\n",
    "    tree_dict = {Ag: {}}\n",
    "    tree_dict[Ag][0] = createTree(getSubDataArr(train_data, train_label, Ag, 0))\n",
    "    tree_dict[Ag][1] = createTree(getSubDataArr(train_data, train_label, Ag, 1))\n",
    "\n",
    "    return tree_dict\n"
   ]
  },
  {
   "cell_type": "code",
   "execution_count": 39,
   "metadata": {},
   "outputs": [],
   "source": [
    "def predict(test_data, tree):\n",
    "    '''\n",
    "    test data: 待预测的样本\n",
    "    tree: 构建好的决策树\n",
    "    '''\n",
    "    while True:\n",
    "        # 使用下行这种方式读取key和value\n",
    "        (key, value), = tree.items()  # TODO 为什么要这样读取？ 记住就行了， 可以以 {73: {0: {74:6}}} 为例试一试\n",
    "        if type(tree[key]).__name__ == 'dict':\n",
    "            data_val = test_data[key]  # 这是该样本的某个特征值\n",
    "            # 不断地删除已经用掉的特征，保证索引相对位置的一致性\n",
    "            del test_data[key]  # 删除该样本的feature\n",
    "            tree = value[data_val]\n",
    "            if type(tree).__name__ == 'int':\n",
    "                return tree\n",
    "        else:\n",
    "            # 返回分类值\n",
    "            return value\n"
   ]
  },
  {
   "cell_type": "code",
   "execution_count": 40,
   "metadata": {},
   "outputs": [],
   "source": [
    "def model_test(test_data, test_label, tree):\n",
    "    error_cnt = 0\n",
    "    for i in tqdm(range(len(test_data))):\n",
    "        if test_label[i] != predict(test_data[i], tree):\n",
    "            error_cnt += 1\n",
    "    return 1 - error_cnt / len(test_data)\n"
   ]
  },
  {
   "cell_type": "code",
   "execution_count": 42,
   "metadata": {},
   "outputs": [
    {
     "name": "stderr",
     "output_type": "stream",
     "text": [
      "100%|██████████| 60000/60000 [00:11<00:00, 5009.15it/s]\n",
      "100%|██████████| 10000/10000 [00:02<00:00, 4996.30it/s]\n"
     ]
    }
   ],
   "source": [
    "train_data, train_label = load_data('../../data/Mnist/train.csv')\n",
    "test_data, test_label = load_data('../../data/Mnist/test.csv')"
   ]
  },
  {
   "cell_type": "code",
   "execution_count": 30,
   "metadata": {},
   "outputs": [
    {
     "name": "stdout",
     "output_type": "stream",
     "text": [
      "(60000,)\n"
     ]
    }
   ],
   "source": [
    "print('create tree ing ...')\n",
    "tree = createTree((train_data, train_label))\n",
    "acc = model_test(test_data, test_label, tree)\n",
    "print(acc)"
   ]
  }
 ],
 "metadata": {
  "kernelspec": {
   "display_name": "Python 3",
   "language": "python",
   "name": "python3"
  },
  "language_info": {
   "codemirror_mode": {
    "name": "ipython",
    "version": 3
   },
   "file_extension": ".py",
   "mimetype": "text/x-python",
   "name": "python",
   "nbconvert_exporter": "python",
   "pygments_lexer": "ipython3",
   "version": "3.7.1"
  }
 },
 "nbformat": 4,
 "nbformat_minor": 2
}
